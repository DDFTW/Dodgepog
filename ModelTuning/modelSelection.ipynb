{
 "metadata": {
  "language_info": {
   "codemirror_mode": {
    "name": "ipython",
    "version": 3
   },
   "file_extension": ".py",
   "mimetype": "text/x-python",
   "name": "python",
   "nbconvert_exporter": "python",
   "pygments_lexer": "ipython3",
   "version": "3.7.7-final"
  },
  "orig_nbformat": 2,
  "kernelspec": {
   "name": "python3",
   "display_name": "Python 3"
  }
 },
 "nbformat": 4,
 "nbformat_minor": 2,
 "cells": [
  {
   "cell_type": "code",
   "execution_count": 50,
   "metadata": {},
   "outputs": [],
   "source": [
    "import pandas as pd\n",
    "\n",
    "from sklearn.model_selection import train_test_split\n",
    "from sklearn.pipeline import make_pipeline\n",
    "from sklearn.preprocessing import StandardScaler\n",
    "from sklearn.model_selection import GridSearchCV\n",
    "pd.set_option('display.max_columns', None)\n",
    "\n",
    "\n",
    "\n",
    "from sklearn.linear_model import LogisticRegression\n",
    "from sklearn.discriminant_analysis import LinearDiscriminantAnalysis\n",
    "from sklearn.neighbors import KNeighborsClassifier\n",
    "from sklearn.naive_bayes import GaussianNB\n",
    "from sklearn.tree import DecisionTreeClassifier\n",
    "from sklearn.svm import SVC\n"
   ]
  },
  {
   "cell_type": "code",
   "execution_count": 43,
   "metadata": {
    "tags": []
   },
   "outputs": [],
   "source": [
    "df = pd.read_csv('../Data/finalDataFrame.csv')"
   ]
  },
  {
   "cell_type": "code",
   "execution_count": 44,
   "metadata": {},
   "outputs": [],
   "source": [
    "#creating features and results dataframes\n",
    "X = df.drop('team1Win', axis=1)\n",
    "y = df.team1Win\n",
    "\n",
    "X_train, X_test, y_train, y_test = train_test_split(X, y, test_size = 0.2, random_state = 1234)"
   ]
  },
  {
   "cell_type": "code",
   "execution_count": 57,
   "metadata": {},
   "outputs": [],
   "source": [
    "#initialize dictionary of pipelines\n",
    "pipelines = {\n",
    "    #sample entry\n",
    "    #'lasso':make_pipeline(SStandardScaler(), lasso(random_state=1))\n",
    "    'svm': make_pipeline(StandardScaler(), SVC()),\n",
    "    'knn': make_pipeline(StandardScaler(), KNeighborsClassifier())\n",
    "}\n",
    "\n",
    "#indvidual hyperparameter dictionaries\n",
    "svc_hyperparameters = {\n",
    "    'svc__C':[0.1, 1, 10, 100, 1000],\n",
    "    'svc__gamma':[1,0.1,0.01, 0.001, 0.0001]\n",
    "}\n",
    "\n",
    "knn_hyperparameters = {\n",
    "    'kneighborsclassifier__n_neighbors': list(range(1,31)),\n",
    "    'kneighborsclassifier__weights': ['uniform','distance']\n",
    "}\n",
    "\n",
    "#initialize dictionaries of hyperparameters\n",
    "#must use same keys as pipelines\n",
    "hyperparameters = {\n",
    "    'svm':svc_hyperparameters\n",
    "}"
   ]
  },
  {
   "cell_type": "code",
   "execution_count": 54,
   "metadata": {
    "tags": []
   },
   "outputs": [
    {
     "output_type": "stream",
     "name": "stdout",
     "text": "{'memory': None, 'steps': [('standardscaler', StandardScaler()), ('kneighborsclassifier', KNeighborsClassifier())], 'verbose': False, 'standardscaler': StandardScaler(), 'kneighborsclassifier': KNeighborsClassifier(), 'standardscaler__copy': True, 'standardscaler__with_mean': True, 'standardscaler__with_std': True, 'kneighborsclassifier__algorithm': 'auto', 'kneighborsclassifier__leaf_size': 30, 'kneighborsclassifier__metric': 'minkowski', 'kneighborsclassifier__metric_params': None, 'kneighborsclassifier__n_jobs': None, 'kneighborsclassifier__n_neighbors': 5, 'kneighborsclassifier__p': 2, 'kneighborsclassifier__weights': 'uniform'}\n"
    }
   ],
   "source": [
    "print(pipelines['knn'].get_params())"
   ]
  },
  {
   "cell_type": "code",
   "execution_count": null,
   "metadata": {},
   "outputs": [],
   "source": [
    "#fitted models\n",
    "fitted = {}\n",
    "#setup for loop for training best models\n",
    "for name, pipeline in pipelines.items():\n",
    "    model = GridSearchCV(pipeline, hyperparameters[name], cv=10, n_jobs=-1)\n",
    "    model.fit(X_train, y_train)\n",
    "    fitted[name] = model"
   ]
  },
  {
   "cell_type": "code",
   "execution_count": null,
   "metadata": {},
   "outputs": [],
   "source": [
    "#checking for performance\n",
    "from sklearn.metrics import r2_score, mean_absolute_error\n",
    "\n",
    "#see performances on training set and test set\n",
    "for name, model in fitted.items():\n",
    "    print(name, 'train:', model.best_score_)\n",
    "\n",
    "    pred = fitted[name].predict(X_test)\n",
    "    print(name, 'test r2_score:', r2_score(y_test, pred))\n",
    "    print(name, 'test MAE:', mean_absolute_error(y_testm pred))\n",
    "    print()\n"
   ]
  }
 ]
}