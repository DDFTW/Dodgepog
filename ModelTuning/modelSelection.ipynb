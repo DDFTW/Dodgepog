{
 "metadata": {
  "language_info": {
   "codemirror_mode": {
    "name": "ipython",
    "version": 3
   },
   "file_extension": ".py",
   "mimetype": "text/x-python",
   "name": "python",
   "nbconvert_exporter": "python",
   "pygments_lexer": "ipython3",
   "version": "3.7.6-final"
  },
  "orig_nbformat": 2,
  "kernelspec": {
   "name": "python3",
   "display_name": "Python 3"
  }
 },
 "nbformat": 4,
 "nbformat_minor": 2,
 "cells": [
  {
   "cell_type": "code",
   "execution_count": 5,
   "metadata": {},
   "outputs": [],
   "source": [
    "import pandas as pd\n",
    "\n",
    "from sklearn.model_selection import train_test_split\n",
    "from sklearn.pipeline import make_pipeline\n",
    "from sklearn.preprocessing import StandardScaler\n",
    "from sklearn.model_selection import GridSearchCV\n",
    "pd.set_option('display.max_columns', None)\n",
    "\n",
    "\n",
    "\n",
    "from sklearn.linear_model import LogisticRegression\n",
    "from sklearn.discriminant_analysis import LinearDiscriminantAnalysis\n",
    "from sklearn.neighbors import KNeighborsClassifier\n",
    "from sklearn.naive_bayes import GaussianNB\n",
    "from sklearn.tree import DecisionTreeClassifier\n",
    "from sklearn.ensemble import RandomForestClassifier\n",
    "from sklearn.ensemble import GradientBoostingClassifier\n",
    "from sklearn.svm import SVC\n",
    "\n",
    "from sklearn.metrics import confusion_matrix\n",
    "from sklearn.metrics import roc_curve, roc_auc_score"
   ]
  },
  {
   "cell_type": "code",
   "execution_count": 2,
   "metadata": {
    "tags": []
   },
   "outputs": [],
   "source": [
    "df = pd.read_csv('../Data/finalDataFrame.csv')"
   ]
  },
  {
   "cell_type": "code",
   "execution_count": 3,
   "metadata": {},
   "outputs": [],
   "source": [
    "#creating features and results dataframes\n",
    "X = df.drop('team1Win', axis=1)\n",
    "y = df.team1Win\n",
    "\n",
    "X_train, X_test, y_train, y_test = train_test_split(X, y, test_size = 0.2, random_state = 1234)"
   ]
  },
  {
   "cell_type": "code",
   "execution_count": 10,
   "metadata": {},
   "outputs": [],
   "source": [
    "#initialize dictionary of pipelines\n",
    "pipelines = {\n",
    "    #sample entry\n",
    "    #'lasso':make_pipeline(SStandardScaler(), lasso(random_state=1))\n",
    "    # 'svm': make_pipeline(StandardScaler(), SVC()),\n",
    "    # 'knn': make_pipeline(StandardScaler(), KNeighborsClassifier()),\n",
    "    'l1' : make_pipeline(StandardScaler(), LogisticRegression(penalty='l1', solver='liblinear', random_state=123)),\n",
    "    'l2' : make_pipeline(StandardScaler(), LogisticRegression(random_state=123)),\n",
    "    'rf' : make_pipeline(StandardScaler(), RandomForestClassifier(random_state=123)),\n",
    "    'gb' : make_pipeline(StandardScaler(), GradientBoostingClassifier(random_state=123))\n",
    "}\n",
    "\n",
    "#indvidual hyperparameter dictionaries\n",
    "svc_hyperparameters = {\n",
    "    'svc__C':[0.1, 1, 10, 100, 1000],\n",
    "    'svc__gamma':[1,0.1,0.01, 0.001, 0.0001]\n",
    "}\n",
    "\n",
    "\n",
    "knn_hyperparameters = {\n",
    "    'kneighborsclassifier__n_neighbors': list(range(1,31)),\n",
    "    'kneighborsclassifier__weights': ['uniform','distance']\n",
    "}\n",
    "\n",
    "l1_hyperparameters = {\n",
    "    'logisticregression__C' : [0.001, 0.005, 0.01, 0.05, 0.1, 0.5, 1, 5, 10, 50, 100, 500, 1000]\n",
    "}\n",
    "\n",
    "l2_hyperparameters = {\n",
    "    'logisticregression__C' : [0.001, 0.005, 0.01, 0.05, 0.1, 0.5, 1, 5, 10, 50, 100, 500, 1000]\n",
    "}\n",
    "\n",
    "rf_hyperparameters = {\n",
    "    'randomforestclassifier__n_estimators' : [100,200],\n",
    "    'randomforestclassifier__max_features' : ['auto', 'sqrt', 0.33],\n",
    "    'randomforestclassifier__min_samples_leaf' : [1,3,5,10]\n",
    "}\n",
    "\n",
    "gb_hyperparameters = {\n",
    "    'gradientboostingclassifier__n_estimators' : [100,200],\n",
    "    'gradientboostingclassifier__learning_rate' : [0.05, 0.1, 0.2],\n",
    "    'gradientboostingclassifier__max_depth' : [1,3,5]\n",
    "}\n",
    "\n",
    "\n",
    "#initialize dictionaries of hyperparameters\n",
    "#must use same keys as pipelines\n",
    "hyperparameters = {\n",
    "    'svm':svc_hyperparameters,\n",
    "    'knn':knn_hyperparameters,\n",
    "    'l1' : l1_hyperparameters,\n",
    "    'l2' : l2_hyperparameters,\n",
    "    'rf' : rf_hyperparameters,\n",
    "    'gb' : gb_hyperparameters\n",
    "}"
   ]
  },
  {
   "cell_type": "code",
   "execution_count": 11,
   "metadata": {
    "tags": []
   },
   "outputs": [],
   "source": [
    "#print(pipelines['knn'].get_params())"
   ]
  },
  {
   "cell_type": "code",
   "execution_count": 12,
   "metadata": {
    "tags": []
   },
   "outputs": [
    {
     "output_type": "stream",
     "name": "stdout",
     "text": "l1 has been fitted\nl2 has been fitted\nrf has been fitted\ngb has been fitted\n"
    }
   ],
   "source": [
    "#fitted models\n",
    "fitted = {}\n",
    "#setup for loop for training best models\n",
    "for name, pipeline in pipelines.items():\n",
    "    model = GridSearchCV(pipeline, hyperparameters[name], cv=10, n_jobs=-1)\n",
    "    model.fit(X_train, y_train)\n",
    "    fitted[name] = model\n",
    "    print('{} has been fitted'.format(name))"
   ]
  },
  {
   "cell_type": "code",
   "execution_count": 18,
   "metadata": {
    "tags": []
   },
   "outputs": [
    {
     "output_type": "stream",
     "name": "stdout",
     "text": "l1 train: 0.564625\nl2 train: 0.545625\nrf train: 0.5740000000000001\ngb train: 0.553875\n[[632 377]\n [445 546]]\nl1 roc score: 0.6157298741198037\n\n[[554 455]\n [455 536]]\nl2 roc score: 0.5578831885382716\n\n[[627 382]\n [433 558]]\nrf roc score: 0.618514099642071\n\n[[623 386]\n [450 541]]\ngb roc score: 0.6120265741525064\n\n"
    }
   ],
   "source": [
    "#checking for performance\n",
    "from sklearn.metrics import r2_score, mean_absolute_error\n",
    "\n",
    "#see performances on training set and test set\n",
    "for name, model in fitted.items():\n",
    "    print(name, 'train:', model.best_score_)\n",
    "\n",
    "for name, model in fitted.items():\n",
    "\n",
    "    pred = fitted[name].predict(X_test)\n",
    "    mat = confusion_matrix(y_test, pred)\n",
    "    print(mat)\n",
    "\n",
    "    pred_scores = fitted[name].predict_proba(X_test)\n",
    "    pred_scores = [p[1] for p in pred_scores]\n",
    "    print(name, 'roc score:', roc_auc_score(y_test,pred_scores))\n",
    "\n",
    "    print()\n"
   ]
  },
  {
   "cell_type": "code",
   "execution_count": 65,
   "metadata": {
    "tags": []
   },
   "outputs": [
    {
     "output_type": "stream",
     "name": "stdout",
     "text": "knn test r2_score: -0.9681594209130937\nknn test MAE: 0.492\n\n"
    }
   ],
   "source": [
    "    print(name, 'test r2_score:', r2_score(y_test, pred))\n",
    "    print(name, 'test MAE:', mean_absolute_error(y_test, pred))\n",
    "    print()"
   ]
  },
  {
   "cell_type": "code",
   "execution_count": null,
   "metadata": {},
   "outputs": [],
   "source": []
  }
 ]
}