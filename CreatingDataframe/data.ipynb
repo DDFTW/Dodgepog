{
 "metadata": {
  "language_info": {
   "codemirror_mode": {
    "name": "ipython",
    "version": 3
   },
   "file_extension": ".py",
   "mimetype": "text/x-python",
   "name": "python",
   "nbconvert_exporter": "python",
   "pygments_lexer": "ipython3",
   "version": "3.7.7-final"
  },
  "orig_nbformat": 2,
  "kernelspec": {
   "name": "python3",
   "display_name": "Python 3"
  }
 },
 "nbformat": 4,
 "nbformat_minor": 2,
 "cells": [
  {
   "cell_type": "code",
   "execution_count": 41,
   "metadata": {
    "tags": []
   },
   "outputs": [],
   "source": [
    "import pandas as pd\n",
    "import numpy as np\n",
    "import json\n",
    "from roleidentification import pull_data, get_roles\n",
    "pd.set_option('display.max_columns', None)"
   ]
  },
  {
   "cell_type": "code",
   "execution_count": 45,
   "metadata": {},
   "outputs": [],
   "source": [
    "ranks = pd.read_csv('../Data/allRanks.csv')\n",
    "champs = pd.read_csv('../Data/champsOG.csv')"
   ]
  },
  {
   "cell_type": "code",
   "execution_count": 90,
   "metadata": {
    "tags": []
   },
   "outputs": [],
   "source": [
    "combinedDf = pd.concat([ranks, champs], axis=1)\n",
    "#combinedDf.head()"
   ]
  },
  {
   "cell_type": "code",
   "execution_count": 81,
   "metadata": {},
   "outputs": [],
   "source": [
    "all_champion_id = {\n",
    "        1: \"Annie\",\n",
    "        2: \"Olaf\",\n",
    "        3: \"Galio\",\n",
    "        4: \"TwistedFate\",\n",
    "        5: \"XinZhao\",\n",
    "        6: \"Urgot\",\n",
    "        7: \"LeBlanc\",\n",
    "        8: \"Vladimir\",\n",
    "        9: \"Fiddlesticks\",\n",
    "        10: \"Kayle\",\n",
    "        11: \"Master Yi\",\n",
    "        12: \"Alistar\",\n",
    "        13: \"Ryze\",\n",
    "        14: \"Sion\",\n",
    "        15: \"Sivir\",\n",
    "        16: \"Soraka\",\n",
    "        17: \"Teemo\",\n",
    "        18: \"Tristana\",\n",
    "        19: \"Warwick\",\n",
    "        20: \"Nunu\",\n",
    "        21: \"MissFortune\",\n",
    "        22: \"Ashe\",\n",
    "        23: \"Tryndamere\",\n",
    "        24: \"Jax\",\n",
    "        25: \"Morgana\",\n",
    "        26: \"Zilean\",\n",
    "        27: \"Singed\",\n",
    "        28: \"Evelynn\",\n",
    "        29: \"Twitch\",\n",
    "        30: \"Karthus\",\n",
    "        31: \"Cho'Gath\",\n",
    "        32: \"Amumu\",\n",
    "        33: \"Rammus\",\n",
    "        34: \"Anivia\",\n",
    "        35: \"Shaco\",\n",
    "        36: \"Dr.Mundo\",\n",
    "        37: \"Sona\",\n",
    "        38: \"Kassadin\",\n",
    "        39: \"Irelia\",\n",
    "        40: \"Janna\",\n",
    "        41: \"Gangplank\",\n",
    "        42: \"Corki\",\n",
    "        43: \"Karma\",\n",
    "        44: \"Taric\",\n",
    "        45: \"Veigar\",\n",
    "        48: \"Trundle\",\n",
    "        50: \"Swain\",\n",
    "        51: \"Caitlyn\",\n",
    "        53: \"Blitzcrank\",\n",
    "        54: \"Malphite\",\n",
    "        55: \"Katarina\",\n",
    "        56: \"Nocturne\",\n",
    "        57: \"Maokai\",\n",
    "        58: \"Renekton\",\n",
    "        59: \"JarvanIV\",\n",
    "        60: \"Elise\",\n",
    "        61: \"Orianna\",\n",
    "        62: \"Wukong\",\n",
    "        63: \"Brand\",\n",
    "        64: \"LeeSin\",\n",
    "        67: \"Vayne\",\n",
    "        68: \"Rumble\",\n",
    "        69: \"Cassiopeia\",\n",
    "        72: \"Skarner\",\n",
    "        74: \"Heimerdinger\",\n",
    "        75: \"Nasus\",\n",
    "        76: \"Nidalee\",\n",
    "        77: \"Udyr\",\n",
    "        78: \"Poppy\",\n",
    "        79: \"Gragas\",\n",
    "        80: \"Pantheon\",\n",
    "        81: \"Ezreal\",\n",
    "        82: \"Mordekaiser\",\n",
    "        83: \"Yorick\",\n",
    "        84: \"Akali\",\n",
    "        85: \"Kennen\",\n",
    "        86: \"Garen\",\n",
    "        89: \"Leona\",\n",
    "        90: \"Malzahar\",\n",
    "        91: \"Talon\",\n",
    "        92: \"Riven\",\n",
    "        96: \"Kog'Maw\",\n",
    "        98: \"Shen\",\n",
    "        99: \"Lux\",\n",
    "        101: \"Xerath\",\n",
    "        102: \"Shyvana\",\n",
    "        103: \"Ahri\",\n",
    "        104: \"Graves\",\n",
    "        105: \"Fizz\",\n",
    "        106: \"Volibear\",\n",
    "        107: \"Rengar\",\n",
    "        110: \"Varus\",\n",
    "        111: \"Nautilus\",\n",
    "        112: \"Viktor\",\n",
    "        113: \"Sejuani\",\n",
    "        114: \"Fiora\",\n",
    "        115: \"Ziggs\",\n",
    "        117: \"Lulu\",\n",
    "        119: \"Draven\",\n",
    "        120: \"Hecarim\",\n",
    "        121: \"Kha'Zix\",\n",
    "        122: \"Darius\",\n",
    "        126: \"Jayce\",\n",
    "        127: \"Lissandra\",\n",
    "        131: \"Diana\",\n",
    "        133: \"Quinn\",\n",
    "        134: \"Syndra\",\n",
    "        136: \"AurelionSol\",\n",
    "        141: \"Kayn\",\n",
    "        142: \"Zoe\",\n",
    "        143: \"Zyra\",\n",
    "        145: \"Kai'sa\",\n",
    "        150: \"Gnar\",\n",
    "        154: \"Zac\",\n",
    "        157: \"Yasuo\",\n",
    "        161: \"Vel'Koz\",\n",
    "        163: \"Taliyah\",\n",
    "        164: \"Camille\",\n",
    "        201: \"Braum\",\n",
    "        202: \"Jhin\",\n",
    "        203: \"Kindred\",\n",
    "        222: \"Jinx\",\n",
    "        223: \"TahmKench\",\n",
    "        235: \"Senna\",\n",
    "        236: \"Lucian\",\n",
    "        238: \"Zed\",\n",
    "        240: \"Kled\",\n",
    "        245: \"Ekko\",\n",
    "        246: \"Qiyana\",\n",
    "        254: \"Vi\",\n",
    "        266: \"Aatrox\",\n",
    "        267: \"Nami\",\n",
    "        268: \"Azir\",\n",
    "        350: \"Yuumi\",\n",
    "        412: \"Thresh\",\n",
    "        420: \"Illaoi\",\n",
    "        421: \"Rek'Sai\",\n",
    "        427: \"Ivern\",\n",
    "        429: \"Kalista\",\n",
    "        432: \"Bard\",\n",
    "        497: \"Rakan\",\n",
    "        498: \"Xayah\",\n",
    "        516: \"Ornn\",\n",
    "        517: \"Sylas\",\n",
    "        523: \"Aphelios\",\n",
    "        518: \"Neeko\",\n",
    "        555: \"Pyke\",\n",
    "        777: \"Yone\",\n",
    "        875: \"Sett\",\n",
    "        876: \"Lillia\",\n",
    "    }"
   ]
  },
  {
   "cell_type": "code",
   "execution_count": 89,
   "metadata": {
    "tags": []
   },
   "outputs": [
    {
     "output_type": "stream",
     "name": "stdout",
     "text": "[18]\n"
    }
   ],
   "source": [
    "'''\n",
    "Get a list of keys from dictionary which has the given value\n",
    "'''\n",
    "def getIdsByname(dictOfElements, valueToFind):\n",
    "    listOfKeys = list()\n",
    "    listOfItems = dictOfElements.items()\n",
    "    for item  in listOfItems:\n",
    "        if item[1] == valueToFind:\n",
    "            listOfKeys.append(item[0])\n",
    "    return  listOfKeys"
   ]
  },
  {
   "cell_type": "code",
   "execution_count": 87,
   "metadata": {
    "tags": []
   },
   "outputs": [
    {
     "output_type": "execute_result",
     "data": {
      "text/plain": "      p1  p2  p3  p4  p5  p6  p7  p8  p9  p10 player1   player2   player3  \\\n9995  15  15  21  25  21  19  19  21  19    9  Irelia   Kha'Zix     Annie   \n9996  19  21  20  13  21  21  10  25  19   16   Sivir   Kha'Zix     Akali   \n9997   1   7   4   4   8   8  13   7  13    8   Janna   XinZhao  Nautilus   \n9998  10  15  20  14  16  19  20  16  14   14  Wukong  Dr.Mundo      Gnar   \n9999  14  19   7  19  16   8  14  19  15   15   Riven       Jax     Poppy   \n\n       player4 player5   player6  player7 player8   player9 player10  team1Win  \n9995   Caitlyn   Senna  JarvanIV    Shaco  Viktor      Jinx  Morgana         1  \n9996    Ezreal   Shaco      Sion  Rek'Sai    Yone  Aphelios     Ahri         0  \n9997  Tristana     Lux      Sett  Warwick   Annie      Ashe    Senna         0  \n9998      Ashe  Thresh    Illaoi     Kayn     Zed    Twitch    Leona         0  \n9999     Vayne  Soraka  Malphite  Kindred    Yone     Yasuo    Akali         0  ",
      "text/html": "<div>\n<style scoped>\n    .dataframe tbody tr th:only-of-type {\n        vertical-align: middle;\n    }\n\n    .dataframe tbody tr th {\n        vertical-align: top;\n    }\n\n    .dataframe thead th {\n        text-align: right;\n    }\n</style>\n<table border=\"1\" class=\"dataframe\">\n  <thead>\n    <tr style=\"text-align: right;\">\n      <th></th>\n      <th>p1</th>\n      <th>p2</th>\n      <th>p3</th>\n      <th>p4</th>\n      <th>p5</th>\n      <th>p6</th>\n      <th>p7</th>\n      <th>p8</th>\n      <th>p9</th>\n      <th>p10</th>\n      <th>player1</th>\n      <th>player2</th>\n      <th>player3</th>\n      <th>player4</th>\n      <th>player5</th>\n      <th>player6</th>\n      <th>player7</th>\n      <th>player8</th>\n      <th>player9</th>\n      <th>player10</th>\n      <th>team1Win</th>\n    </tr>\n  </thead>\n  <tbody>\n    <tr>\n      <th>9995</th>\n      <td>15</td>\n      <td>15</td>\n      <td>21</td>\n      <td>25</td>\n      <td>21</td>\n      <td>19</td>\n      <td>19</td>\n      <td>21</td>\n      <td>19</td>\n      <td>9</td>\n      <td>Irelia</td>\n      <td>Kha'Zix</td>\n      <td>Annie</td>\n      <td>Caitlyn</td>\n      <td>Senna</td>\n      <td>JarvanIV</td>\n      <td>Shaco</td>\n      <td>Viktor</td>\n      <td>Jinx</td>\n      <td>Morgana</td>\n      <td>1</td>\n    </tr>\n    <tr>\n      <th>9996</th>\n      <td>19</td>\n      <td>21</td>\n      <td>20</td>\n      <td>13</td>\n      <td>21</td>\n      <td>21</td>\n      <td>10</td>\n      <td>25</td>\n      <td>19</td>\n      <td>16</td>\n      <td>Sivir</td>\n      <td>Kha'Zix</td>\n      <td>Akali</td>\n      <td>Ezreal</td>\n      <td>Shaco</td>\n      <td>Sion</td>\n      <td>Rek'Sai</td>\n      <td>Yone</td>\n      <td>Aphelios</td>\n      <td>Ahri</td>\n      <td>0</td>\n    </tr>\n    <tr>\n      <th>9997</th>\n      <td>1</td>\n      <td>7</td>\n      <td>4</td>\n      <td>4</td>\n      <td>8</td>\n      <td>8</td>\n      <td>13</td>\n      <td>7</td>\n      <td>13</td>\n      <td>8</td>\n      <td>Janna</td>\n      <td>XinZhao</td>\n      <td>Nautilus</td>\n      <td>Tristana</td>\n      <td>Lux</td>\n      <td>Sett</td>\n      <td>Warwick</td>\n      <td>Annie</td>\n      <td>Ashe</td>\n      <td>Senna</td>\n      <td>0</td>\n    </tr>\n    <tr>\n      <th>9998</th>\n      <td>10</td>\n      <td>15</td>\n      <td>20</td>\n      <td>14</td>\n      <td>16</td>\n      <td>19</td>\n      <td>20</td>\n      <td>16</td>\n      <td>14</td>\n      <td>14</td>\n      <td>Wukong</td>\n      <td>Dr.Mundo</td>\n      <td>Gnar</td>\n      <td>Ashe</td>\n      <td>Thresh</td>\n      <td>Illaoi</td>\n      <td>Kayn</td>\n      <td>Zed</td>\n      <td>Twitch</td>\n      <td>Leona</td>\n      <td>0</td>\n    </tr>\n    <tr>\n      <th>9999</th>\n      <td>14</td>\n      <td>19</td>\n      <td>7</td>\n      <td>19</td>\n      <td>16</td>\n      <td>8</td>\n      <td>14</td>\n      <td>19</td>\n      <td>15</td>\n      <td>15</td>\n      <td>Riven</td>\n      <td>Jax</td>\n      <td>Poppy</td>\n      <td>Vayne</td>\n      <td>Soraka</td>\n      <td>Malphite</td>\n      <td>Kindred</td>\n      <td>Yone</td>\n      <td>Yasuo</td>\n      <td>Akali</td>\n      <td>0</td>\n    </tr>\n  </tbody>\n</table>\n</div>"
     },
     "metadata": {},
     "execution_count": 87
    }
   ],
   "source": [
    "#fix order of variables\n",
    "#iterate through cleaned data, and pull out the correct indexes, and replace them in the data set\n",
    "ekek = combinedDf.copy()\n",
    "champion_roles = pull_data()\n",
    "\n",
    "for index, row in ekek.iterrows():\n",
    "\n",
    "    # copy row\n",
    "    temp = row.copy()\n",
    "\n",
    "    #create team1 and team2\n",
    "    team1 = row[10:15].tolist()\n",
    "    team2 = row[15:].tolist()\n",
    "\n",
    "    #convert champ names back to Ids\n",
    "    t1Ids = []\n",
    "    t2Ids = []\n",
    "\n",
    "    for i in range(5):\n",
    "        t1Ids.append( getIdsByname(all_champion_id, team1[i])[0] )\n",
    "        t2Ids.append( getIdsByname(all_champion_id, team2[i])[0] )\n",
    "\n",
    "    #get predicted roles\n",
    "    t1Roles = get_roles(champion_roles, t1Ids)\n",
    "    t2Roles = get_roles(champion_roles, t2Ids)\n",
    "\n",
    "    #convert ids back into champion list\n",
    "    t1Champions = []\n",
    "    t2Champions = []\n",
    "    for i in t1Roles.keys():\n",
    "       t1Champions.append( all_champion_id[ t1Roles[i] ] )\n",
    "       t2Champions.append( all_champion_id[ t2Roles[i] ] )\n",
    "\n",
    "    #switch champions and ranks with correct positions\n",
    "    for i in range(5):\n",
    "        t1Index = row.tolist().index( t1Champions[i] )\n",
    "        t2Index = row.tolist().index( t2Champions[i] )\n",
    "        temp[i+10] = row[t1Index]\n",
    "        temp[i+15] = row[t2Index]\n",
    "        temp[i] = row[t1Index - 10]\n",
    "        temp[i+5] = row[t2Index - 10]\n",
    "\n",
    "    ekek.loc[index] = temp\n",
    "    \n",
    "ekek.head()\n",
    "ekek.tail()\n",
    "\n"
   ]
  },
  {
   "cell_type": "code",
   "execution_count": 94,
   "metadata": {
    "tags": []
   },
   "outputs": [
    {
     "output_type": "execute_result",
     "data": {
      "text/plain": "   TopRank1  JungleRank1  MidRank1  BottomRank1  SupportRank1  TopRank2  \\\n0        20           15        31           25            25        25   \n1        19           19        19           19            20        19   \n2        10           19        19           21             9        15   \n3        20           16         9           15             2        16   \n4        19           15        14           13            10         9   \n\n   JungleRank2  MidRank2  BottomRank2  SupportRank2         Top1   Jungle1  \\\n0           25        13           25            25  Mordekaiser    Graves   \n1           19        19            9            22      Camille      Kayn   \n2           19        13           20            15         Gnar    LeeSin   \n3           14        16           16            16        Akali  Volibear   \n4           15        15           14            15  Mordekaiser       Jax   \n\n       Mid1   Bottom1 Support1      Top2   Jungle2     Mid2   Bottom2  \\\n0  Kassadin      Jhin     Lulu       Jax      Ekko    Janna    Kai'sa   \n1     Yasuo      Ashe    Swain  Vladimir  Pantheon    Galio  Aphelios   \n2    Veigar      Ashe   Thresh    Yorick   Kha'Zix  LeBlanc      Jhin   \n3      Yone  Tristana    Swain     Fiora      Ekko  Nidalee     Vayne   \n4     Diana    Lucian     Lulu    Kennen   Kha'Zix    Yasuo    Ezreal   \n\n  Support2  team1Win  \n0    Karma         1  \n1      Lux         0  \n2  Morgana         0  \n3     Sett         1  \n4      Lux         1  ",
      "text/html": "<div>\n<style scoped>\n    .dataframe tbody tr th:only-of-type {\n        vertical-align: middle;\n    }\n\n    .dataframe tbody tr th {\n        vertical-align: top;\n    }\n\n    .dataframe thead th {\n        text-align: right;\n    }\n</style>\n<table border=\"1\" class=\"dataframe\">\n  <thead>\n    <tr style=\"text-align: right;\">\n      <th></th>\n      <th>TopRank1</th>\n      <th>JungleRank1</th>\n      <th>MidRank1</th>\n      <th>BottomRank1</th>\n      <th>SupportRank1</th>\n      <th>TopRank2</th>\n      <th>JungleRank2</th>\n      <th>MidRank2</th>\n      <th>BottomRank2</th>\n      <th>SupportRank2</th>\n      <th>Top1</th>\n      <th>Jungle1</th>\n      <th>Mid1</th>\n      <th>Bottom1</th>\n      <th>Support1</th>\n      <th>Top2</th>\n      <th>Jungle2</th>\n      <th>Mid2</th>\n      <th>Bottom2</th>\n      <th>Support2</th>\n      <th>team1Win</th>\n    </tr>\n  </thead>\n  <tbody>\n    <tr>\n      <th>0</th>\n      <td>20</td>\n      <td>15</td>\n      <td>31</td>\n      <td>25</td>\n      <td>25</td>\n      <td>25</td>\n      <td>25</td>\n      <td>13</td>\n      <td>25</td>\n      <td>25</td>\n      <td>Mordekaiser</td>\n      <td>Graves</td>\n      <td>Kassadin</td>\n      <td>Jhin</td>\n      <td>Lulu</td>\n      <td>Jax</td>\n      <td>Ekko</td>\n      <td>Janna</td>\n      <td>Kai'sa</td>\n      <td>Karma</td>\n      <td>1</td>\n    </tr>\n    <tr>\n      <th>1</th>\n      <td>19</td>\n      <td>19</td>\n      <td>19</td>\n      <td>19</td>\n      <td>20</td>\n      <td>19</td>\n      <td>19</td>\n      <td>19</td>\n      <td>9</td>\n      <td>22</td>\n      <td>Camille</td>\n      <td>Kayn</td>\n      <td>Yasuo</td>\n      <td>Ashe</td>\n      <td>Swain</td>\n      <td>Vladimir</td>\n      <td>Pantheon</td>\n      <td>Galio</td>\n      <td>Aphelios</td>\n      <td>Lux</td>\n      <td>0</td>\n    </tr>\n    <tr>\n      <th>2</th>\n      <td>10</td>\n      <td>19</td>\n      <td>19</td>\n      <td>21</td>\n      <td>9</td>\n      <td>15</td>\n      <td>19</td>\n      <td>13</td>\n      <td>20</td>\n      <td>15</td>\n      <td>Gnar</td>\n      <td>LeeSin</td>\n      <td>Veigar</td>\n      <td>Ashe</td>\n      <td>Thresh</td>\n      <td>Yorick</td>\n      <td>Kha'Zix</td>\n      <td>LeBlanc</td>\n      <td>Jhin</td>\n      <td>Morgana</td>\n      <td>0</td>\n    </tr>\n    <tr>\n      <th>3</th>\n      <td>20</td>\n      <td>16</td>\n      <td>9</td>\n      <td>15</td>\n      <td>2</td>\n      <td>16</td>\n      <td>14</td>\n      <td>16</td>\n      <td>16</td>\n      <td>16</td>\n      <td>Akali</td>\n      <td>Volibear</td>\n      <td>Yone</td>\n      <td>Tristana</td>\n      <td>Swain</td>\n      <td>Fiora</td>\n      <td>Ekko</td>\n      <td>Nidalee</td>\n      <td>Vayne</td>\n      <td>Sett</td>\n      <td>1</td>\n    </tr>\n    <tr>\n      <th>4</th>\n      <td>19</td>\n      <td>15</td>\n      <td>14</td>\n      <td>13</td>\n      <td>10</td>\n      <td>9</td>\n      <td>15</td>\n      <td>15</td>\n      <td>14</td>\n      <td>15</td>\n      <td>Mordekaiser</td>\n      <td>Jax</td>\n      <td>Diana</td>\n      <td>Lucian</td>\n      <td>Lulu</td>\n      <td>Kennen</td>\n      <td>Kha'Zix</td>\n      <td>Yasuo</td>\n      <td>Ezreal</td>\n      <td>Lux</td>\n      <td>1</td>\n    </tr>\n  </tbody>\n</table>\n</div>"
     },
     "metadata": {},
     "execution_count": 94
    }
   ],
   "source": [
    "#rename columns\n",
    "roles = ['Top', 'Jungle', 'Mid', 'Bottom', 'Support']\n",
    "colDict = {}\n",
    "for i in range(5):\n",
    "    colDict['p{}'.format(i+1)] = '{}Rank1'.format(roles[i])\n",
    "    colDict['p{}'.format(i+6)] = '{}Rank2'.format(roles[i])\n",
    "    colDict['player{}'.format(i+1)] = '{}1'.format(roles[i])\n",
    "    colDict['player{}'.format(i+6)] = '{}2'.format(roles[i])\n",
    "\n",
    "ekek.rename(columns=colDict, inplace=True)"
   ]
  },
  {
   "cell_type": "code",
   "execution_count": 134,
   "metadata": {
    "tags": []
   },
   "outputs": [],
   "source": [
    "numColNames = ekek.select_dtypes([np.number]).columns\n",
    "totMask = [False] * len(ekek)\n",
    "\n",
    "#create unranked variables\n",
    "for name in numColNames:\n",
    "    if name == 'team1Win':\n",
    "        continue\n",
    "\n",
    "    temp = ekek[name] == -1\n",
    "    ekek['{}{}'.format(name,'unranked')] = temp"
   ]
  },
  {
   "cell_type": "code",
   "execution_count": 151,
   "metadata": {
    "tags": []
   },
   "outputs": [],
   "source": [
    "#add dummies\n",
    "catColNames = ekek.select_dtypes(include=['object']).columns\n",
    "\n",
    "abt = pd.get_dummies(ekek, columns=catColNames)\n",
    "\n",
    "#abt.head()\n",
    "\n"
   ]
  },
  {
   "cell_type": "code",
   "execution_count": 153,
   "metadata": {},
   "outputs": [],
   "source": [
    "#save final data fram\n",
    "abt.to_csv('../Data/finalDataFrame.csv')"
   ]
  }
 ]
}